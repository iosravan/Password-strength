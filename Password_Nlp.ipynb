{
  "nbformat": 4,
  "nbformat_minor": 0,
  "metadata": {
    "colab": {
      "name": "Password_Nlp.ipynb",
      "provenance": [],
      "collapsed_sections": []
    },
    "kernelspec": {
      "name": "python3",
      "display_name": "Python 3"
    },
    "language_info": {
      "name": "python"
    }
  },
  "cells": [
    {
      "cell_type": "code",
      "metadata": {
        "id": "XMa56fmv9aFS"
      },
      "source": [
        "import pandas as pd\n",
        "import numpy as np\n",
        "import seaborn as sns\n",
        "import warnings\n",
        "warnings.filterwarnings('ignore')"
      ],
      "execution_count": 29,
      "outputs": []
    },
    {
      "cell_type": "code",
      "metadata": {
        "colab": {
          "base_uri": "https://localhost:8080/",
          "height": 275
        },
        "id": "Oqnu34HA98G2",
        "outputId": "27d76ca6-77da-446c-f00f-35a3ba5a64a5"
      },
      "source": [
        "ds=pd.read_csv('/content/data.csv',error_bad_lines=False)\n",
        "ds.head()"
      ],
      "execution_count": 30,
      "outputs": [
        {
          "output_type": "stream",
          "text": [
            "b'Skipping line 2810: expected 2 fields, saw 5\\nSkipping line 4641: expected 2 fields, saw 5\\nSkipping line 7171: expected 2 fields, saw 5\\nSkipping line 11220: expected 2 fields, saw 5\\nSkipping line 13809: expected 2 fields, saw 5\\nSkipping line 14132: expected 2 fields, saw 5\\nSkipping line 14293: expected 2 fields, saw 5\\nSkipping line 14865: expected 2 fields, saw 5\\nSkipping line 17419: expected 2 fields, saw 5\\nSkipping line 22801: expected 2 fields, saw 5\\nSkipping line 25001: expected 2 fields, saw 5\\nSkipping line 26603: expected 2 fields, saw 5\\nSkipping line 26742: expected 2 fields, saw 5\\nSkipping line 29702: expected 2 fields, saw 5\\nSkipping line 32767: expected 2 fields, saw 5\\nSkipping line 32878: expected 2 fields, saw 5\\nSkipping line 35643: expected 2 fields, saw 5\\nSkipping line 36550: expected 2 fields, saw 5\\nSkipping line 38732: expected 2 fields, saw 5\\nSkipping line 40567: expected 2 fields, saw 5\\nSkipping line 40576: expected 2 fields, saw 5\\nSkipping line 41864: expected 2 fields, saw 5\\nSkipping line 46861: expected 2 fields, saw 5\\nSkipping line 47939: expected 2 fields, saw 5\\nSkipping line 48628: expected 2 fields, saw 5\\nSkipping line 48908: expected 2 fields, saw 5\\nSkipping line 57582: expected 2 fields, saw 5\\nSkipping line 58782: expected 2 fields, saw 5\\nSkipping line 58984: expected 2 fields, saw 5\\nSkipping line 61518: expected 2 fields, saw 5\\nSkipping line 63451: expected 2 fields, saw 5\\nSkipping line 68141: expected 2 fields, saw 5\\nSkipping line 72083: expected 2 fields, saw 5\\nSkipping line 74027: expected 2 fields, saw 5\\nSkipping line 77811: expected 2 fields, saw 5\\nSkipping line 83958: expected 2 fields, saw 5\\nSkipping line 85295: expected 2 fields, saw 5\\nSkipping line 88665: expected 2 fields, saw 5\\nSkipping line 89198: expected 2 fields, saw 5\\nSkipping line 92499: expected 2 fields, saw 5\\nSkipping line 92751: expected 2 fields, saw 5\\nSkipping line 93689: expected 2 fields, saw 5\\nSkipping line 94776: expected 2 fields, saw 5\\nSkipping line 97334: expected 2 fields, saw 5\\nSkipping line 102316: expected 2 fields, saw 5\\nSkipping line 103421: expected 2 fields, saw 5\\nSkipping line 106872: expected 2 fields, saw 5\\nSkipping line 109363: expected 2 fields, saw 5\\nSkipping line 110117: expected 2 fields, saw 5\\nSkipping line 110465: expected 2 fields, saw 5\\nSkipping line 113843: expected 2 fields, saw 5\\nSkipping line 115634: expected 2 fields, saw 5\\nSkipping line 121518: expected 2 fields, saw 5\\nSkipping line 123692: expected 2 fields, saw 5\\nSkipping line 124708: expected 2 fields, saw 5\\nSkipping line 129608: expected 2 fields, saw 5\\nSkipping line 133176: expected 2 fields, saw 5\\nSkipping line 135532: expected 2 fields, saw 5\\nSkipping line 138042: expected 2 fields, saw 5\\nSkipping line 139485: expected 2 fields, saw 5\\nSkipping line 140401: expected 2 fields, saw 5\\nSkipping line 144093: expected 2 fields, saw 5\\nSkipping line 149850: expected 2 fields, saw 5\\nSkipping line 151831: expected 2 fields, saw 5\\nSkipping line 158014: expected 2 fields, saw 5\\nSkipping line 162047: expected 2 fields, saw 5\\nSkipping line 164515: expected 2 fields, saw 5\\nSkipping line 170313: expected 2 fields, saw 5\\nSkipping line 171325: expected 2 fields, saw 5\\nSkipping line 171424: expected 2 fields, saw 5\\nSkipping line 175920: expected 2 fields, saw 5\\nSkipping line 176210: expected 2 fields, saw 5\\nSkipping line 183603: expected 2 fields, saw 5\\nSkipping line 190264: expected 2 fields, saw 5\\nSkipping line 191683: expected 2 fields, saw 5\\nSkipping line 191988: expected 2 fields, saw 5\\nSkipping line 195450: expected 2 fields, saw 5\\nSkipping line 195754: expected 2 fields, saw 5\\nSkipping line 197124: expected 2 fields, saw 5\\nSkipping line 199263: expected 2 fields, saw 5\\nSkipping line 202603: expected 2 fields, saw 5\\nSkipping line 209960: expected 2 fields, saw 5\\nSkipping line 213218: expected 2 fields, saw 5\\nSkipping line 217060: expected 2 fields, saw 5\\nSkipping line 220121: expected 2 fields, saw 5\\nSkipping line 223518: expected 2 fields, saw 5\\nSkipping line 226293: expected 2 fields, saw 5\\nSkipping line 227035: expected 2 fields, saw 7\\nSkipping line 227341: expected 2 fields, saw 5\\nSkipping line 227808: expected 2 fields, saw 5\\nSkipping line 228516: expected 2 fields, saw 5\\nSkipping line 228733: expected 2 fields, saw 5\\nSkipping line 232043: expected 2 fields, saw 5\\nSkipping line 232426: expected 2 fields, saw 5\\nSkipping line 234490: expected 2 fields, saw 5\\nSkipping line 239626: expected 2 fields, saw 5\\nSkipping line 240461: expected 2 fields, saw 5\\nSkipping line 244518: expected 2 fields, saw 5\\nSkipping line 245395: expected 2 fields, saw 5\\nSkipping line 246168: expected 2 fields, saw 5\\nSkipping line 246655: expected 2 fields, saw 5\\nSkipping line 246752: expected 2 fields, saw 5\\nSkipping line 247189: expected 2 fields, saw 5\\nSkipping line 250276: expected 2 fields, saw 5\\nSkipping line 255327: expected 2 fields, saw 5\\nSkipping line 257094: expected 2 fields, saw 5\\n'\n",
            "b'Skipping line 264626: expected 2 fields, saw 5\\nSkipping line 265028: expected 2 fields, saw 5\\nSkipping line 269150: expected 2 fields, saw 5\\nSkipping line 271360: expected 2 fields, saw 5\\nSkipping line 273975: expected 2 fields, saw 5\\nSkipping line 274742: expected 2 fields, saw 5\\nSkipping line 276227: expected 2 fields, saw 5\\nSkipping line 279807: expected 2 fields, saw 5\\nSkipping line 283425: expected 2 fields, saw 5\\nSkipping line 287468: expected 2 fields, saw 5\\nSkipping line 292995: expected 2 fields, saw 5\\nSkipping line 293496: expected 2 fields, saw 5\\nSkipping line 293735: expected 2 fields, saw 5\\nSkipping line 295060: expected 2 fields, saw 5\\nSkipping line 296643: expected 2 fields, saw 5\\nSkipping line 296848: expected 2 fields, saw 5\\nSkipping line 308926: expected 2 fields, saw 5\\nSkipping line 310360: expected 2 fields, saw 5\\nSkipping line 317004: expected 2 fields, saw 5\\nSkipping line 318207: expected 2 fields, saw 5\\nSkipping line 331783: expected 2 fields, saw 5\\nSkipping line 333864: expected 2 fields, saw 5\\nSkipping line 335958: expected 2 fields, saw 5\\nSkipping line 336290: expected 2 fields, saw 5\\nSkipping line 343526: expected 2 fields, saw 5\\nSkipping line 343857: expected 2 fields, saw 5\\nSkipping line 344059: expected 2 fields, saw 5\\nSkipping line 348691: expected 2 fields, saw 5\\nSkipping line 353446: expected 2 fields, saw 5\\nSkipping line 357073: expected 2 fields, saw 5\\nSkipping line 359753: expected 2 fields, saw 5\\nSkipping line 359974: expected 2 fields, saw 5\\nSkipping line 366534: expected 2 fields, saw 5\\nSkipping line 369514: expected 2 fields, saw 5\\nSkipping line 377759: expected 2 fields, saw 5\\nSkipping line 379327: expected 2 fields, saw 5\\nSkipping line 380769: expected 2 fields, saw 5\\nSkipping line 381073: expected 2 fields, saw 5\\nSkipping line 381489: expected 2 fields, saw 5\\nSkipping line 386304: expected 2 fields, saw 5\\nSkipping line 387635: expected 2 fields, saw 5\\nSkipping line 389613: expected 2 fields, saw 5\\nSkipping line 392604: expected 2 fields, saw 5\\nSkipping line 393184: expected 2 fields, saw 5\\nSkipping line 395530: expected 2 fields, saw 5\\nSkipping line 396939: expected 2 fields, saw 5\\nSkipping line 397385: expected 2 fields, saw 5\\nSkipping line 397509: expected 2 fields, saw 5\\nSkipping line 402902: expected 2 fields, saw 5\\nSkipping line 405187: expected 2 fields, saw 5\\nSkipping line 408412: expected 2 fields, saw 5\\nSkipping line 419423: expected 2 fields, saw 5\\nSkipping line 420962: expected 2 fields, saw 5\\nSkipping line 425965: expected 2 fields, saw 5\\nSkipping line 427496: expected 2 fields, saw 5\\nSkipping line 438881: expected 2 fields, saw 5\\nSkipping line 439776: expected 2 fields, saw 5\\nSkipping line 440345: expected 2 fields, saw 5\\nSkipping line 445507: expected 2 fields, saw 5\\nSkipping line 445548: expected 2 fields, saw 5\\nSkipping line 447184: expected 2 fields, saw 5\\nSkipping line 448603: expected 2 fields, saw 5\\nSkipping line 451732: expected 2 fields, saw 5\\nSkipping line 458249: expected 2 fields, saw 5\\nSkipping line 460274: expected 2 fields, saw 5\\nSkipping line 467630: expected 2 fields, saw 5\\nSkipping line 473961: expected 2 fields, saw 5\\nSkipping line 476281: expected 2 fields, saw 5\\nSkipping line 478010: expected 2 fields, saw 5\\nSkipping line 478322: expected 2 fields, saw 5\\nSkipping line 479999: expected 2 fields, saw 5\\nSkipping line 480898: expected 2 fields, saw 5\\nSkipping line 481688: expected 2 fields, saw 5\\nSkipping line 485193: expected 2 fields, saw 5\\nSkipping line 485519: expected 2 fields, saw 5\\nSkipping line 486000: expected 2 fields, saw 5\\nSkipping line 489063: expected 2 fields, saw 5\\nSkipping line 494525: expected 2 fields, saw 5\\nSkipping line 495009: expected 2 fields, saw 5\\nSkipping line 501954: expected 2 fields, saw 5\\nSkipping line 508035: expected 2 fields, saw 5\\nSkipping line 508828: expected 2 fields, saw 5\\nSkipping line 509833: expected 2 fields, saw 5\\nSkipping line 510410: expected 2 fields, saw 5\\nSkipping line 518229: expected 2 fields, saw 5\\nSkipping line 520302: expected 2 fields, saw 5\\nSkipping line 520340: expected 2 fields, saw 5\\n'\n",
            "b'Skipping line 525174: expected 2 fields, saw 5\\nSkipping line 526251: expected 2 fields, saw 5\\nSkipping line 529611: expected 2 fields, saw 5\\nSkipping line 531398: expected 2 fields, saw 5\\nSkipping line 534146: expected 2 fields, saw 5\\nSkipping line 544954: expected 2 fields, saw 5\\nSkipping line 553002: expected 2 fields, saw 5\\nSkipping line 553883: expected 2 fields, saw 5\\nSkipping line 553887: expected 2 fields, saw 5\\nSkipping line 553915: expected 2 fields, saw 5\\nSkipping line 554172: expected 2 fields, saw 5\\nSkipping line 563534: expected 2 fields, saw 5\\nSkipping line 565191: expected 2 fields, saw 5\\nSkipping line 574108: expected 2 fields, saw 5\\nSkipping line 574412: expected 2 fields, saw 5\\nSkipping line 575985: expected 2 fields, saw 5\\nSkipping line 580091: expected 2 fields, saw 5\\nSkipping line 582682: expected 2 fields, saw 5\\nSkipping line 585885: expected 2 fields, saw 5\\nSkipping line 590171: expected 2 fields, saw 5\\nSkipping line 591924: expected 2 fields, saw 5\\nSkipping line 592515: expected 2 fields, saw 5\\nSkipping line 593888: expected 2 fields, saw 5\\nSkipping line 596245: expected 2 fields, saw 5\\nSkipping line 607344: expected 2 fields, saw 5\\nSkipping line 607633: expected 2 fields, saw 5\\nSkipping line 610939: expected 2 fields, saw 5\\nSkipping line 613638: expected 2 fields, saw 5\\nSkipping line 615643: expected 2 fields, saw 5\\nSkipping line 615901: expected 2 fields, saw 5\\nSkipping line 617389: expected 2 fields, saw 5\\nSkipping line 634641: expected 2 fields, saw 5\\nSkipping line 635755: expected 2 fields, saw 5\\nSkipping line 646243: expected 2 fields, saw 5\\nSkipping line 647165: expected 2 fields, saw 5\\nSkipping line 648610: expected 2 fields, saw 5\\nSkipping line 648772: expected 2 fields, saw 5\\nSkipping line 651833: expected 2 fields, saw 5\\nSkipping line 653663: expected 2 fields, saw 5\\nSkipping line 656233: expected 2 fields, saw 5\\nSkipping line 656694: expected 2 fields, saw 5\\nSkipping line 659783: expected 2 fields, saw 5\\nSkipping line 660478: expected 2 fields, saw 5\\nSkipping line 661133: expected 2 fields, saw 5\\nSkipping line 661736: expected 2 fields, saw 5\\nSkipping line 669827: expected 2 fields, saw 5\\n'\n"
          ],
          "name": "stderr"
        },
        {
          "output_type": "execute_result",
          "data": {
            "text/html": [
              "<div>\n",
              "<style scoped>\n",
              "    .dataframe tbody tr th:only-of-type {\n",
              "        vertical-align: middle;\n",
              "    }\n",
              "\n",
              "    .dataframe tbody tr th {\n",
              "        vertical-align: top;\n",
              "    }\n",
              "\n",
              "    .dataframe thead th {\n",
              "        text-align: right;\n",
              "    }\n",
              "</style>\n",
              "<table border=\"1\" class=\"dataframe\">\n",
              "  <thead>\n",
              "    <tr style=\"text-align: right;\">\n",
              "      <th></th>\n",
              "      <th>password</th>\n",
              "      <th>strength</th>\n",
              "    </tr>\n",
              "  </thead>\n",
              "  <tbody>\n",
              "    <tr>\n",
              "      <th>0</th>\n",
              "      <td>kzde5577</td>\n",
              "      <td>1</td>\n",
              "    </tr>\n",
              "    <tr>\n",
              "      <th>1</th>\n",
              "      <td>kino3434</td>\n",
              "      <td>1</td>\n",
              "    </tr>\n",
              "    <tr>\n",
              "      <th>2</th>\n",
              "      <td>visi7k1yr</td>\n",
              "      <td>1</td>\n",
              "    </tr>\n",
              "    <tr>\n",
              "      <th>3</th>\n",
              "      <td>megzy123</td>\n",
              "      <td>1</td>\n",
              "    </tr>\n",
              "    <tr>\n",
              "      <th>4</th>\n",
              "      <td>lamborghin1</td>\n",
              "      <td>1</td>\n",
              "    </tr>\n",
              "  </tbody>\n",
              "</table>\n",
              "</div>"
            ],
            "text/plain": [
              "      password  strength\n",
              "0     kzde5577         1\n",
              "1     kino3434         1\n",
              "2    visi7k1yr         1\n",
              "3     megzy123         1\n",
              "4  lamborghin1         1"
            ]
          },
          "metadata": {
            "tags": []
          },
          "execution_count": 30
        }
      ]
    },
    {
      "cell_type": "code",
      "metadata": {
        "colab": {
          "base_uri": "https://localhost:8080/"
        },
        "id": "jKzXiZs6-Ba-",
        "outputId": "5008c534-5d6d-4fc3-d4f6-6aef9b4860e9"
      },
      "source": [
        "ds['strength'].unique()"
      ],
      "execution_count": 31,
      "outputs": [
        {
          "output_type": "execute_result",
          "data": {
            "text/plain": [
              "array([1, 2, 0])"
            ]
          },
          "metadata": {
            "tags": []
          },
          "execution_count": 31
        }
      ]
    },
    {
      "cell_type": "code",
      "metadata": {
        "colab": {
          "base_uri": "https://localhost:8080/"
        },
        "id": "t0gI6RVl-ZOb",
        "outputId": "0c7ba8dd-aaab-4f2f-db41-6c26150b0240"
      },
      "source": [
        "ds.isna().sum()"
      ],
      "execution_count": 32,
      "outputs": [
        {
          "output_type": "execute_result",
          "data": {
            "text/plain": [
              "password    1\n",
              "strength    0\n",
              "dtype: int64"
            ]
          },
          "metadata": {
            "tags": []
          },
          "execution_count": 32
        }
      ]
    },
    {
      "cell_type": "code",
      "metadata": {
        "colab": {
          "base_uri": "https://localhost:8080/",
          "height": 80
        },
        "id": "EKJs98i7-c_f",
        "outputId": "129f1e06-928f-4866-922b-30e942195885"
      },
      "source": [
        "ds[ds['password'].isna()]"
      ],
      "execution_count": 33,
      "outputs": [
        {
          "output_type": "execute_result",
          "data": {
            "text/html": [
              "<div>\n",
              "<style scoped>\n",
              "    .dataframe tbody tr th:only-of-type {\n",
              "        vertical-align: middle;\n",
              "    }\n",
              "\n",
              "    .dataframe tbody tr th {\n",
              "        vertical-align: top;\n",
              "    }\n",
              "\n",
              "    .dataframe thead th {\n",
              "        text-align: right;\n",
              "    }\n",
              "</style>\n",
              "<table border=\"1\" class=\"dataframe\">\n",
              "  <thead>\n",
              "    <tr style=\"text-align: right;\">\n",
              "      <th></th>\n",
              "      <th>password</th>\n",
              "      <th>strength</th>\n",
              "    </tr>\n",
              "  </thead>\n",
              "  <tbody>\n",
              "    <tr>\n",
              "      <th>367579</th>\n",
              "      <td>NaN</td>\n",
              "      <td>0</td>\n",
              "    </tr>\n",
              "  </tbody>\n",
              "</table>\n",
              "</div>"
            ],
            "text/plain": [
              "       password  strength\n",
              "367579      NaN         0"
            ]
          },
          "metadata": {
            "tags": []
          },
          "execution_count": 33
        }
      ]
    },
    {
      "cell_type": "code",
      "metadata": {
        "id": "hCLsAIxE-th5"
      },
      "source": [
        "ds.dropna(inplace=True)"
      ],
      "execution_count": 34,
      "outputs": []
    },
    {
      "cell_type": "code",
      "metadata": {
        "colab": {
          "base_uri": "https://localhost:8080/"
        },
        "id": "ahk1P3TB-9QE",
        "outputId": "fe3e29e4-02bc-464d-9e66-dfba27a68596"
      },
      "source": [
        "ds.isna().sum()"
      ],
      "execution_count": 35,
      "outputs": [
        {
          "output_type": "execute_result",
          "data": {
            "text/plain": [
              "password    0\n",
              "strength    0\n",
              "dtype: int64"
            ]
          },
          "metadata": {
            "tags": []
          },
          "execution_count": 35
        }
      ]
    },
    {
      "cell_type": "code",
      "metadata": {
        "colab": {
          "base_uri": "https://localhost:8080/",
          "height": 296
        },
        "id": "_fDuX6CP_CcM",
        "outputId": "3ee9f7e0-fc84-4b62-cf27-c2813cd3e75a"
      },
      "source": [
        "sns.countplot(ds['strength'])"
      ],
      "execution_count": 36,
      "outputs": [
        {
          "output_type": "execute_result",
          "data": {
            "text/plain": [
              "<matplotlib.axes._subplots.AxesSubplot at 0x7f29cba84610>"
            ]
          },
          "metadata": {
            "tags": []
          },
          "execution_count": 36
        },
        {
          "output_type": "display_data",
          "data": {
            "image/png": "[encoded data removed]",
            "text/plain": [
              "<Figure size 432x288 with 1 Axes>"
            ]
          },
          "metadata": {
            "tags": [],
            "needs_background": "light"
          }
        }
      ]
    },
    {
      "cell_type": "code",
      "metadata": {
        "id": "gLbaCkR5_KjB"
      },
      "source": [
        "# sns.countplot(ds['password'])"
      ],
      "execution_count": 37,
      "outputs": []
    },
    {
      "cell_type": "code",
      "metadata": {
        "id": "XNE3FJYL_R4x"
      },
      "source": [
        "password_tuple=np.array(ds)"
      ],
      "execution_count": 38,
      "outputs": []
    },
    {
      "cell_type": "code",
      "metadata": {
        "colab": {
          "base_uri": "https://localhost:8080/"
        },
        "id": "9yvuZseu_iOJ",
        "outputId": "aac89e1d-1eaf-4c38-9ce3-129963f391ae"
      },
      "source": [
        "password_tuple"
      ],
      "execution_count": 39,
      "outputs": [
        {
          "output_type": "execute_result",
          "data": {
            "text/plain": [
              "array([['kzde5577', 1],\n",
              "       ['kino3434', 1],\n",
              "       ['visi7k1yr', 1],\n",
              "       ...,\n",
              "       ['184520socram', 1],\n",
              "       ['marken22a', 1],\n",
              "       ['fxx4pw4g', 1]], dtype=object)"
            ]
          },
          "metadata": {
            "tags": []
          },
          "execution_count": 39
        }
      ]
    },
    {
      "cell_type": "code",
      "metadata": {
        "id": "A6gAQlwl_lIL"
      },
      "source": [
        "import random\n",
        "random.shuffle(password_tuple)"
      ],
      "execution_count": 40,
      "outputs": []
    },
    {
      "cell_type": "code",
      "metadata": {
        "id": "PPjI-1rn_trK"
      },
      "source": [
        "x=[labels[0] for labels in password_tuple]\n",
        "y=[labels[1] for labels in password_tuple]"
      ],
      "execution_count": 41,
      "outputs": []
    },
    {
      "cell_type": "code",
      "metadata": {
        "colab": {
          "base_uri": "https://localhost:8080/"
        },
        "id": "ChO0zdI4zAcv",
        "outputId": "9c9494cf-d6f0-4281-9f35-88d42220df88"
      },
      "source": [
        "x"
      ],
      "execution_count": 42,
      "outputs": [
        {
          "output_type": "execute_result",
          "data": {
            "text/plain": [
              "['kzde5577',\n",
              " 'kzde5577',\n",
              " 'kino3434',\n",
              " 'megzy123',\n",
              " 'kino3434',\n",
              " 'kino3434',\n",
              " 'lamborghin1',\n",
              " 'v1118714',\n",
              " 'visi7k1yr',\n",
              " 'AVYq1lDE4MgAZfNt',\n",
              " 'visi7k1yr',\n",
              " '612035180tok',\n",
              " 'u6c8vhow',\n",
              " 'lamborghin1',\n",
              " 'u6c8vhow',\n",
              " 'asv5o9yu',\n",
              " 'jerusalem393',\n",
              " '52558000aaa',\n",
              " 'asv5o9yu',\n",
              " 'as326159',\n",
              " 'idofo673',\n",
              " 'megzy123',\n",
              " 'visi7k1yr',\n",
              " '612035180tok',\n",
              " 'idofo673',\n",
              " '6975038lp',\n",
              " 'idofo673',\n",
              " 'megzy123',\n",
              " 'cigicigi123',\n",
              " 'lamborghin1',\n",
              " 'jerusalem393',\n",
              " 'jytifok873',\n",
              " 'asgaliu11',\n",
              " 'v1118714',\n",
              " 'u6c8vhow',\n",
              " 'v1118714',\n",
              " '52558000aaa',\n",
              " 'u6c8vhow',\n",
              " '0169395484a',\n",
              " 'jytifok873',\n",
              " '52558000aaa',\n",
              " 'fahad123',\n",
              " 'kzde5577',\n",
              " 'as326159',\n",
              " 'pHyqueDIyNQ8vmhb',\n",
              " 'elyass15@ajilent-ci',\n",
              " 'schalke04',\n",
              " 'fk9qi21m',\n",
              " 'TyWM72UNEex8Q8Y',\n",
              " '0169395484a',\n",
              " '52558000aaa',\n",
              " 'jerusalem393',\n",
              " '0169395484a',\n",
              " 'jytifok873',\n",
              " 'kswa2mrv',\n",
              " 'idofo673',\n",
              " 'pHyqueDIyNQ8vmhb',\n",
              " 'jytifok873',\n",
              " 'openup12',\n",
              " 'TyWM72UNEex8Q8Y',\n",
              " 'a2531106',\n",
              " 'memjan123',\n",
              " 'openup12',\n",
              " 'schalke04',\n",
              " 'elyass15@ajilent-ci',\n",
              " 'exitos2009',\n",
              " 'universe2908',\n",
              " 'visi7k1yr',\n",
              " 'sbl571017',\n",
              " 'v1118714',\n",
              " 'tamanagung6',\n",
              " 'yitbos77',\n",
              " 'czuodhj972',\n",
              " 'juliana19',\n",
              " 'visi7k1yr',\n",
              " 'prisonbreak1',\n",
              " 'kzde5577',\n",
              " 'fahad123',\n",
              " 'kzde5577',\n",
              " 'visi7k1yr',\n",
              " 'juliel009',\n",
              " 'asgaliu11',\n",
              " 'cesarmaio1',\n",
              " 'megzy123',\n",
              " 'WUt9IZzE0OQ7PkNE',\n",
              " '0169395484a',\n",
              " 'czuodhj972',\n",
              " '283671gus',\n",
              " 'as326159',\n",
              " 'ga98SIzk0NwhiZaE',\n",
              " '6975038lp',\n",
              " 'intel1',\n",
              " 'patri1973',\n",
              " '2021848709.',\n",
              " 'hpqkoxsn5',\n",
              " 'visi7k1yr',\n",
              " 'lsdlsd1',\n",
              " 'kVczcljg4OA25Aeb',\n",
              " 'elyass15@ajilent-ci',\n",
              " '612035180tok',\n",
              " 'ok>bdk',\n",
              " 'TyWM72UNEex8Q8Y',\n",
              " 'fk9qi21m',\n",
              " 'fk9qi21m',\n",
              " 'go7kew7a2po',\n",
              " 'kino3434',\n",
              " 'memjan123',\n",
              " 'd04m11',\n",
              " 'exitos2009',\n",
              " 'gkrqjs6',\n",
              " 'b4NbTxDEyNgG141J',\n",
              " 'a2531106',\n",
              " 'asv5o9yu',\n",
              " 'yllime123',\n",
              " 'a2531106',\n",
              " 'oekojWyH120063',\n",
              " 'juliel009',\n",
              " 'hayhayq2',\n",
              " 'jalingo1',\n",
              " 'hpqkoxsn5',\n",
              " 'gdfn76',\n",
              " 'ns2b0727',\n",
              " 'trabajonet9',\n",
              " 'hodygid757',\n",
              " '123maxbala',\n",
              " 'trabajonet9',\n",
              " '64959rodro',\n",
              " 'gkrqjs6',\n",
              " '283671gus',\n",
              " 'portales1',\n",
              " 'd04m11',\n",
              " 'lsdlsd1',\n",
              " 'yllime123',\n",
              " 'xiau5ff',\n",
              " 'kunyukbabi69',\n",
              " 'ass359',\n",
              " 'pato221182',\n",
              " 'b4NbTxDEyNgG141J',\n",
              " '1972vishara',\n",
              " 'Iamthelegend1!',\n",
              " '929865yt',\n",
              " 'alimagik1',\n",
              " 'xyws951753',\n",
              " 'xiau5ff',\n",
              " 'WUt9IZzE0OQ7PkNE',\n",
              " 'kjkjkj1',\n",
              " 'oekojWyH120063',\n",
              " 'jerusalem393',\n",
              " 'kunyukbabi69',\n",
              " 'gkrqjs6',\n",
              " 'kswa2mrv',\n",
              " 'jalingo1',\n",
              " 'denise18',\n",
              " 'megzy123',\n",
              " 'jerusalem393',\n",
              " 'k1k2k3k4k5k6',\n",
              " 'gill02',\n",
              " 'exitos2009',\n",
              " 'prisonbreak1',\n",
              " 'omakiva153',\n",
              " 'yllime123',\n",
              " 'memjan123',\n",
              " 'elyass15@ajilent-ci',\n",
              " 'patri1973',\n",
              " 'oekojWyH120063',\n",
              " 'fk9qi21m',\n",
              " 'sknq7m0',\n",
              " 'khmer100.03278&?><Mnb',\n",
              " 'schalke04',\n",
              " 'yuri110995',\n",
              " 'wisal1234',\n",
              " 'czuodhj972',\n",
              " '2fakjv',\n",
              " 'ikanez886',\n",
              " 'yut0838828185',\n",
              " 'sbl571017',\n",
              " 'denise18',\n",
              " 'megzy123',\n",
              " 'gill02',\n",
              " 'patri1973',\n",
              " 'rogyh820',\n",
              " 'openup12',\n",
              " 'schalke04',\n",
              " 'p@sslng2diword',\n",
              " 'potatobus150',\n",
              " 'puegwajy416',\n",
              " 'demon10',\n",
              " 'b4NbTxDEyNgG141J',\n",
              " 'openup12',\n",
              " 'RPFUOUDQwMwVW0AS',\n",
              " 'marita1',\n",
              " 'patri1973',\n",
              " 's0xwym7h',\n",
              " 'tamanagung6',\n",
              " 'yllime123',\n",
              " 'a2531106',\n",
              " 'exitos2009',\n",
              " '2fakjv',\n",
              " '2fakjv',\n",
              " 'TyWM72UNEex8Q8Y',\n",
              " 'WUt9IZzE0OQ7PkNE',\n",
              " 'k9b8cz6aj2',\n",
              " 'kVczcljg4OA25Aeb',\n",
              " 'yllime123',\n",
              " 'barboza221294',\n",
              " 'q0pv0fk',\n",
              " 'tia150979',\n",
              " 'barboza221294',\n",
              " '123477889a',\n",
              " 'cesarmaio1',\n",
              " 'faranumar91',\n",
              " 'mohantra1',\n",
              " '52558000aaa',\n",
              " 'oekojWyH120063',\n",
              " 'change201',\n",
              " 'sanki1',\n",
              " 'z7zbgIDkzMQeHUd9',\n",
              " 'asv5o9yu',\n",
              " 'z888888',\n",
              " 'juliana19',\n",
              " 'warriors08',\n",
              " 'elonex24',\n",
              " '123477889a',\n",
              " '123net123',\n",
              " 'puegwajy416',\n",
              " '3y6iwef2g6',\n",
              " 'alimagik1',\n",
              " '3vszncp4',\n",
              " 'ikanez886',\n",
              " 'pablo321159',\n",
              " 'atigi839',\n",
              " 'finisterra1',\n",
              " 'jalingo1',\n",
              " 'kyxvufl37',\n",
              " 'tamanagung6',\n",
              " 'virush1n1',\n",
              " 'kyxvufl37',\n",
              " 'mmm23mm',\n",
              " '5gzj5uf',\n",
              " 'u6c8vhow',\n",
              " 'pato221182',\n",
              " 'change201',\n",
              " 'demon10',\n",
              " 'change201',\n",
              " 'z888888',\n",
              " 'portales1',\n",
              " 'ginger972',\n",
              " 'hpqkoxsn5',\n",
              " 'AVYq1lDE4MgAZfNt',\n",
              " 'pikey231',\n",
              " 'jUV4dSDQwNwPpA36',\n",
              " 'universe2908',\n",
              " '52558000aaa',\n",
              " 'polo2014',\n",
              " 'virush1n1',\n",
              " '2021848709.',\n",
              " 'il0vey0u',\n",
              " 'fnmsdha476',\n",
              " 'kyxvufl37',\n",
              " 'meopvywk628',\n",
              " 'kino3434',\n",
              " '123maxbala',\n",
              " 'rogyh820',\n",
              " 'elonex24',\n",
              " 'rntprns7',\n",
              " 'damyvo114',\n",
              " 'q0pv0fk',\n",
              " 'IjUcOtYqAwel725',\n",
              " 'a110804032',\n",
              " 'teste10',\n",
              " 'q0pv0fk',\n",
              " 'kino3434',\n",
              " 'omakiva153',\n",
              " 'vehat387',\n",
              " 'gdfn76',\n",
              " 'zoobike04',\n",
              " 'warriors08',\n",
              " '6975038lp',\n",
              " 'elyass15@ajilent-ci',\n",
              " 'TyWM72UNEex8Q8Y',\n",
              " 'pHyqueDIyNQ8vmhb',\n",
              " 'moimoimoi9',\n",
              " 'kikeq102',\n",
              " 'ok>bdk',\n",
              " '929865yt',\n",
              " 'a0972986650',\n",
              " 'gdfn76',\n",
              " 'asv5o9yu',\n",
              " 'pHyqueDIyNQ8vmhb',\n",
              " '6975038lp',\n",
              " 'snolyuj04',\n",
              " 't8IkFRDIxMAFV2JW',\n",
              " 'czuodhj972',\n",
              " 'hosna1368',\n",
              " 'teemteem97',\n",
              " 'nicolas05',\n",
              " 'z3ro1sm',\n",
              " 'colorado27',\n",
              " 'franczuk33',\n",
              " 'portales1',\n",
              " 'kswa2mrv',\n",
              " '2yz4ewwg',\n",
              " 'ldteugao6',\n",
              " 'owote852',\n",
              " 'olmaz.',\n",
              " '4fqa52vecr',\n",
              " 't8IkFRDIxMAFV2JW',\n",
              " '6tequila6',\n",
              " '215466kenyi',\n",
              " 'woon12',\n",
              " 'obstacle25',\n",
              " 'farrukhcse12',\n",
              " 'xyws951753',\n",
              " 'tahseen75',\n",
              " 'bencike7',\n",
              " 'damyvo114',\n",
              " '52558000aaa',\n",
              " 'juliel009',\n",
              " 'a110804032',\n",
              " '159951josh',\n",
              " 'afs34214',\n",
              " 'kry1z9',\n",
              " 'czuodhj972',\n",
              " 'josue12',\n",
              " 'juliel009',\n",
              " 'kry1z9',\n",
              " 'barra23',\n",
              " 'meopvywk628',\n",
              " 'nicolas05',\n",
              " 'rogyh820',\n",
              " '52558000aaa',\n",
              " 'q0pv0fk',\n",
              " 'mohantra1',\n",
              " '838188linh',\n",
              " 'x0004534',\n",
              " '1ngaymuadong',\n",
              " 'clyioqzgw42',\n",
              " 'peluchin4',\n",
              " 'patty94',\n",
              " 'pHyqueDIyNQ8vmhb',\n",
              " 'metopelo1623',\n",
              " 'jalingo1',\n",
              " 'gaymaids1',\n",
              " 'kenneth610',\n",
              " 'obstacle25',\n",
              " 'AVYq1lDE4MgAZfNt',\n",
              " 'go7kew7a2po',\n",
              " 'holamundo1',\n",
              " '20010509wang',\n",
              " 'khaled12',\n",
              " 'sbaUsoTA1OAzuevI',\n",
              " '10Erjrlmebup0n',\n",
              " '123nicole',\n",
              " 'khurram_',\n",
              " 'idofo673',\n",
              " '1katertje',\n",
              " 'gandhi8513',\n",
              " 'd04m11',\n",
              " 'lamborghin1',\n",
              " 'edcmki90',\n",
              " '10Erjrlmebup0n',\n",
              " 'a0972986650',\n",
              " 'x0004534',\n",
              " '746xitEGiqObog',\n",
              " '4fqa52vecr',\n",
              " '2fakjv',\n",
              " 'g067057895',\n",
              " '4osxw4r',\n",
              " 'sasuke4',\n",
              " 'kinga22',\n",
              " 'alchimie79',\n",
              " 'laedbchsx687',\n",
              " 'sydney213',\n",
              " '10Erjrlmebup0n',\n",
              " 'oioo9og',\n",
              " 'xiau5ff',\n",
              " 'kswa2mrv',\n",
              " 'barboza221294',\n",
              " 'lamborghin1',\n",
              " 'yitbos77',\n",
              " 'clyioqzgw42',\n",
              " 'frhnsvelhfr1',\n",
              " 'finisterra1',\n",
              " 'as326159',\n",
              " '6yy6yy',\n",
              " 'metopelo1623',\n",
              " 'kenneth610',\n",
              " 'lsdlsd1',\n",
              " 'z3ro1sm',\n",
              " 'olmaz.',\n",
              " 'openup12',\n",
              " 'hodygid757',\n",
              " 'jerusalem393',\n",
              " 'cigicigi123',\n",
              " 'wibi182d',\n",
              " 'kjkjkj1',\n",
              " 'tia150979',\n",
              " 'memjan123',\n",
              " 'hpqkoxsn5',\n",
              " 'ts34a3fodh3i',\n",
              " 'meopvywk628',\n",
              " 'cUFUSYKIPuGo024',\n",
              " 'snolyuj04',\n",
              " 'ts34a3fodh3i',\n",
              " 'frhnsvelhfr1',\n",
              " 'ejeko677',\n",
              " 'cUFUSYKIPuGo024',\n",
              " 'schalke04',\n",
              " '1katertje',\n",
              " 'jerusalem393',\n",
              " 'patty94',\n",
              " 'ns2b0727',\n",
              " '3vszncp4',\n",
              " 'schalke04',\n",
              " 'xyws951753',\n",
              " 'ocadezi586',\n",
              " 'a2486315',\n",
              " '1972vishara',\n",
              " 'mustang337',\n",
              " 'elyass15@ajilent-ci',\n",
              " 'mayur@8netinfotech',\n",
              " 'elabadmin1386',\n",
              " 't8IkFRDIxMAFV2JW',\n",
              " 'x0004534',\n",
              " 'taiga0088',\n",
              " 'pablo321159',\n",
              " 'fnmsdha476',\n",
              " '2GnTStTE4Mw4MTwv',\n",
              " '07dpv1127b',\n",
              " 'cristiano7',\n",
              " '7942vikas',\n",
              " 'p2share',\n",
              " 'kzde5577',\n",
              " 'alimagik1',\n",
              " '631ihOZogELoVap',\n",
              " '52558000aaa',\n",
              " 'kVczcljg4OA25Aeb',\n",
              " 'kenneth610',\n",
              " '64whbrb351',\n",
              " '1597535youssi',\n",
              " 'ga98SIzk0NwhiZaE',\n",
              " 'c3h8bkzr',\n",
              " 'd6VyrkFV6oblxNs5N8cW',\n",
              " '64959rodro',\n",
              " 'il0vey0u',\n",
              " 'qefoquf1uf',\n",
              " 'yu86640132',\n",
              " 'mike09',\n",
              " 'khurram_',\n",
              " 'jonothepoop1',\n",
              " 'v1118714',\n",
              " 'e667794c1d',\n",
              " '746xitEGiqObog',\n",
              " 'd04m11',\n",
              " '123maxbala',\n",
              " 'qefoquf1uf',\n",
              " 'XqMB7vDMzOQocAFV',\n",
              " 'gaymaids1',\n",
              " '1972vishara',\n",
              " 'galoucura1',\n",
              " 'x0004534',\n",
              " 'aosmaxd0',\n",
              " 'prisonbreak1',\n",
              " 'potatobus150',\n",
              " 'ldteugao6',\n",
              " 'gozv3e5',\n",
              " 'bugatti01',\n",
              " 'q0pv0fk',\n",
              " 'cockw0mble',\n",
              " 'pablo321159',\n",
              " '7mV0pKTA3MgHy8Jv',\n",
              " 't8IkFRDIxMAFV2JW',\n",
              " 'gandhi8513',\n",
              " 'oatcake87',\n",
              " 'alchimie79',\n",
              " 'koabcswzt3',\n",
              " 'hayhayq2',\n",
              " 'byeypb2',\n",
              " 'krishna2',\n",
              " 'taulant123',\n",
              " 'ikanez886',\n",
              " '64whbrb351',\n",
              " 'yu4cmn',\n",
              " 'znbl5tj1',\n",
              " 'clyioqzgw42',\n",
              " '64959rodro',\n",
              " 'nK0yKXTU0NQHZE2e',\n",
              " 'upomel180',\n",
              " 'mario489800',\n",
              " 'urban1',\n",
              " 'wuzyci421',\n",
              " 'ldteugao6',\n",
              " 'oscar2002',\n",
              " 'kyxvufl37',\n",
              " 'kah4544875',\n",
              " 'YADHJIGSAWS11',\n",
              " '5gzj5uf',\n",
              " 'ns2b0727',\n",
              " 'walterivl13',\n",
              " 'sebax2013',\n",
              " 'elonex24',\n",
              " 'n501iomf',\n",
              " 'rLLh4WDQ2OAWbDO5',\n",
              " '2fakjv',\n",
              " 'okn9zp9o',\n",
              " 'g067057895',\n",
              " 'sono11',\n",
              " 'nello11',\n",
              " 'examy624',\n",
              " 'wo9aiwangyan',\n",
              " 'gozv3e5',\n",
              " 'viri13',\n",
              " 'zjl0kx03',\n",
              " 'kyodai666',\n",
              " 'kXzWOozU2MQ1Jv1h',\n",
              " '2652033abc',\n",
              " 'upomel180',\n",
              " 'cerner09',\n",
              " 'gaymaids1',\n",
              " 'ebogel225',\n",
              " 'teemteem97',\n",
              " 'franczuk33',\n",
              " 'fudijep286',\n",
              " 'sanjaime1',\n",
              " 'rqmswof2llb0',\n",
              " 'franczuk33',\n",
              " 'kah4544875',\n",
              " 'rqmswof2llb0',\n",
              " 'a2531106',\n",
              " 'uoaef06gfqeb',\n",
              " 'mickael12',\n",
              " 'sysoja794',\n",
              " 'juany57',\n",
              " 'exitos2009',\n",
              " 'mohantra1',\n",
              " 'edcmki90',\n",
              " 'arigato3',\n",
              " 'pekai2004',\n",
              " 'upomel180',\n",
              " 'mario489800',\n",
              " 'k1k2k3k4k5k6',\n",
              " 'XqMB7vDMzOQocAFV',\n",
              " 'schalke04',\n",
              " 'c1brb3lt',\n",
              " 'asdasdf1',\n",
              " 'byeypb2',\n",
              " 'nK0yKXTU0NQHZE2e',\n",
              " '215466kenyi',\n",
              " '3y6iwef2g6',\n",
              " 'krumbul123',\n",
              " 'lrhxmevb620',\n",
              " 'p@sslng2diword',\n",
              " 'jalal123456',\n",
              " 'gerardway1',\n",
              " 'uou2dae',\n",
              " 'a110804032',\n",
              " 'yami12',\n",
              " 'moken7',\n",
              " 'pmcm110118008',\n",
              " 'pikey231',\n",
              " 'hqh2eYjQxOQPYIsA',\n",
              " 'matha81',\n",
              " 'sknq7m0',\n",
              " 'qwekl12',\n",
              " 'fudijep286',\n",
              " 'nK0yKXTU0NQHZE2e',\n",
              " 'pmcm110118008',\n",
              " 'folashade1',\n",
              " 'groster152',\n",
              " 'abizar08',\n",
              " 'alimagik1',\n",
              " '6975038lp',\n",
              " 'nicolas05',\n",
              " 'lugerp08',\n",
              " '72o0yzekib4',\n",
              " 'teste10',\n",
              " 'pmcm110118008',\n",
              " 'ram@!sita15392',\n",
              " 'IRZA98',\n",
              " 'moimoimoi9',\n",
              " 'overlord3127',\n",
              " '20010509wang',\n",
              " 'mazdarx7',\n",
              " 'rsuvxz08b',\n",
              " 'n501iomf',\n",
              " 'tspirits08',\n",
              " 'il0vey0u',\n",
              " '2yz4ewwg',\n",
              " 'asv5o9yu',\n",
              " 'ass359',\n",
              " 'kzde5577',\n",
              " 'woaini0',\n",
              " 'jytifok873',\n",
              " '2652033abc',\n",
              " 'j2yj2yj2y',\n",
              " 'pastorius88',\n",
              " 'ydd45ee',\n",
              " 'atigi839',\n",
              " 'oioo9og',\n",
              " 'yzxwvgbdu503',\n",
              " 'afs34214',\n",
              " 'openup12',\n",
              " 'openup12',\n",
              " 'demon10',\n",
              " 'vuqADUSatAJO800',\n",
              " 'icap12',\n",
              " 'z7zbgIDkzMQeHUd9',\n",
              " 'universe2908',\n",
              " 'wuzyci421',\n",
              " 'ldteugao6',\n",
              " 'e667794c1d',\n",
              " 'mark11',\n",
              " 'urban1',\n",
              " 'lugerp08',\n",
              " 'poilkjmnb987',\n",
              " '215466kenyi',\n",
              " 'qopybuxi2',\n",
              " 'omakiva153',\n",
              " 'servbot88',\n",
              " 'sbnivetha123',\n",
              " 'llahetihw1',\n",
              " 'wearehis7',\n",
              " 'ubojig109',\n",
              " 'sanjaime1',\n",
              " 'ezekiel720',\n",
              " 'Staterkom20081993',\n",
              " 'kukimuki123',\n",
              " 'lsdlsd1',\n",
              " 'alchimie79',\n",
              " 'atigi839',\n",
              " '4165000yakub',\n",
              " 'acgyj188',\n",
              " 'kitty555',\n",
              " '1ngaymuadong',\n",
              " 'd6VyrkFV6oblxNs5N8cW',\n",
              " 'topgan22',\n",
              " 'frhnsvelhfr1',\n",
              " 'www32223222',\n",
              " 'jeeves123',\n",
              " 'urban1',\n",
              " 'yut0838828185',\n",
              " 'josef0867',\n",
              " '9950twofour0',\n",
              " '600eretz',\n",
              " 'ebogel225',\n",
              " 'skoda06',\n",
              " 'franczuk33',\n",
              " 'm4r4hne',\n",
              " 'diegote10',\n",
              " 'DRAGON25',\n",
              " 'elonex24',\n",
              " '10Erjrlmebup0n',\n",
              " 'weicat12',\n",
              " 'mega0109',\n",
              " 'weicat12',\n",
              " 'rrilni1747',\n",
              " 'groster152',\n",
              " 'asdasdf1',\n",
              " 'cigicigi123',\n",
              " 'UF1Z2WjE5Mg26R1K',\n",
              " 'studenko123',\n",
              " 'kdl9cl53',\n",
              " 'wbtdrieus345',\n",
              " 'n501iomf',\n",
              " 'demon10',\n",
              " 'jeeves123',\n",
              " 'pass0port',\n",
              " 'gedu1t1ah',\n",
              " 'killer5',\n",
              " 'sbl571017',\n",
              " 'bugatti01',\n",
              " '9950twofour0',\n",
              " 'rntprns7',\n",
              " 'ydd45ee',\n",
              " 'jUV4dSDQwNwPpA36',\n",
              " 'hamqrc6',\n",
              " 'd04m11',\n",
              " 'oatcake87',\n",
              " 'njmania114',\n",
              " 'yy4129',\n",
              " 'z7zbgIDkzMQeHUd9',\n",
              " 'jytifok873',\n",
              " 'megdam55',\n",
              " 'zoobike04',\n",
              " 'ebogel225',\n",
              " 'kikeq102',\n",
              " 'yllime123',\n",
              " 'bozoxik602',\n",
              " 'puegwajy416',\n",
              " 'graciela2',\n",
              " 'paulino123',\n",
              " '159951josh',\n",
              " '123477889a',\n",
              " 'X34y2CzY5MACs6kp',\n",
              " 'krumbul123',\n",
              " 'pato221182',\n",
              " 'tucagu356',\n",
              " 'fk9qi21m',\n",
              " 'regodib479',\n",
              " 'upyjlneg80',\n",
              " 'sysoja794',\n",
              " 'cristiano7',\n",
              " 'sun4shine76',\n",
              " 'sanjaime1',\n",
              " 'Iamthelegend1!',\n",
              " 'yogesh143',\n",
              " 'upomel180',\n",
              " 'tim80327',\n",
              " 'v1s2c3456',\n",
              " '4lgYVfzk1MwuzHcn',\n",
              " 'tia150979',\n",
              " 'teste10',\n",
              " 'ab11223344',\n",
              " 'urban1',\n",
              " '4osxw4r',\n",
              " 'fr8OClDY1MAdEhHa',\n",
              " 'kdl9cl53',\n",
              " 'schalke04',\n",
              " 'ryjypes139',\n",
              " 'kikeq102',\n",
              " 'gutergut599',\n",
              " 'daaxvie1',\n",
              " '4TXr5KDYxNQVTo4g',\n",
              " 'iubat09',\n",
              " 'potatobus150',\n",
              " 'clave2013',\n",
              " 'TyWM72UNEex8Q8Y',\n",
              " '241189dumai',\n",
              " 'meopvywk628',\n",
              " 'ab11223344',\n",
              " '1234159hero',\n",
              " 'kyxvufl37',\n",
              " '123456rajput',\n",
              " 'x8512514',\n",
              " 'vmdo3i',\n",
              " 'qopybuxi2',\n",
              " 'oekojWyH120063',\n",
              " 'nikolas369',\n",
              " 'yogesh143',\n",
              " 'we34dar88',\n",
              " 'kzde5577',\n",
              " 'wycinu436',\n",
              " 'markama10',\n",
              " '123456rajput',\n",
              " 'bgrvl80',\n",
              " 'maulana79',\n",
              " '2d0d7qfz',\n",
              " 'Oshity07142014',\n",
              " 'ldteugao6',\n",
              " 'wearehis7',\n",
              " 'colorado27',\n",
              " 'gutergut599',\n",
              " 'exitos2009',\n",
              " 'RRaa--72783530081984',\n",
              " 'islamasma12',\n",
              " 'rsuvxz08b',\n",
              " 'sysoja794',\n",
              " 'hola45',\n",
              " 'hqh2eYjQxOQPYIsA',\n",
              " 'icap12',\n",
              " 'regodib479',\n",
              " '2GnTStTE4Mw4MTwv',\n",
              " 'lrhxmevb620',\n",
              " 'plumilla1',\n",
              " 'barra23',\n",
              " 'jalal123456',\n",
              " 'exusop649',\n",
              " 'qwekl12',\n",
              " 'aio42fv',\n",
              " 'sw10d014',\n",
              " 'webstudio8',\n",
              " 'osimeytju12',\n",
              " 'khurram_',\n",
              " 'mustang337',\n",
              " 'damyvo114',\n",
              " 'z3ro1sm',\n",
              " 'bghuyku37',\n",
              " 'd6VyrkFV6oblxNs5N8cW',\n",
              " 'spl51190595',\n",
              " '123477889a',\n",
              " 'lugerp08',\n",
              " 'damyvo114',\n",
              " '631ihOZogELoVap',\n",
              " 'polo2014',\n",
              " 'uxyloga692',\n",
              " 'azizi120583',\n",
              " 'nhfdff2512',\n",
              " 'matiofox08',\n",
              " 'demon10',\n",
              " 'fbjurcd961',\n",
              " 'cifinew817',\n",
              " 'hotdog20',\n",
              " '0VKWoODkwOAc0pZK',\n",
              " 'xie635891',\n",
              " 'gvczfel801',\n",
              " 'webstudio8',\n",
              " 'marita1',\n",
              " 'xanyrum650',\n",
              " 'tomas7896',\n",
              " 'kenyu001',\n",
              " 'kinga22',\n",
              " '3CgRg8DA1NQY1iEj',\n",
              " 'satrjcrj6',\n",
              " 'idofo673',\n",
              " 'djda1203zj',\n",
              " 'iwaguh884',\n",
              " 'idofo673',\n",
              " 'd04m11',\n",
              " 'artom111478',\n",
              " 'eVl19ADIxNAmU09N',\n",
              " 'sun4shine76',\n",
              " 'mialr325',\n",
              " 'mndzbqkv651',\n",
              " 'deryxi704',\n",
              " 'lancelot07',\n",
              " 'herherher1',\n",
              " 'e667794c1d',\n",
              " 'DTUQG5jU5MwmR1L9',\n",
              " 'krumbul123',\n",
              " 'acetita478',\n",
              " 'falre1524',\n",
              " '1qa2ws3ed4r',\n",
              " '5gzj5uf',\n",
              " 'CabezaDePollo476',\n",
              " 'go7kew7a2po',\n",
              " 'e667794c1d',\n",
              " 'RJXDk1zEyMwpyq0U',\n",
              " 'WUt9IZzE0OQ7PkNE',\n",
              " 'mussuh4',\n",
              " 'legna13',\n",
              " 'ufoduvo540',\n",
              " 'MT766631',\n",
              " '72o0yzekib4',\n",
              " 'ihana906',\n",
              " '847XagYxUHUXOW',\n",
              " '1justogax',\n",
              " 'elabadmin1386',\n",
              " 'rsuvxz08b',\n",
              " 'hpqkoxsn5',\n",
              " 'khmer100.03278&?><Mnb',\n",
              " 'QWERTY0011',\n",
              " 'as8594505',\n",
              " 'aquhih220',\n",
              " 'j09000',\n",
              " 'barboza221294',\n",
              " '147963asd',\n",
              " 'pastorius88',\n",
              " 'synyxyr723',\n",
              " 'RPFUOUDQwMwVW0AS',\n",
              " 'lovelory1',\n",
              " '12345687vini',\n",
              " 'kaiden12',\n",
              " '2010server',\n",
              " 'patrisa84',\n",
              " 'uqilyni846',\n",
              " 'jUV4dSDQwNwPpA36',\n",
              " 'gedu1t1ah',\n",
              " 'jannia5',\n",
              " 'gozv3e5',\n",
              " 'pmcm110118008',\n",
              " 'qopybuxi2',\n",
              " 'islamasma12',\n",
              " 'exusop649',\n",
              " 'examy624',\n",
              " 'webhostv1t1n',\n",
              " 'ixehawojEPe418',\n",
              " 'limichan99',\n",
              " 'v1s2c3456',\n",
              " 'wuzsadav933',\n",
              " 'kate13',\n",
              " 'ci0n3exor',\n",
              " 'ldteugao6',\n",
              " 'jalal123456',\n",
              " '0870330135a',\n",
              " '3rambywople',\n",
              " '19821010a',\n",
              " '838188linh',\n",
              " 'aziz098765',\n",
              " 'ydd45ee',\n",
              " 'u03kz6ez',\n",
              " 'jonothepoop1',\n",
              " 'raykuaz32',\n",
              " 'oscar69',\n",
              " 'qn5xpg3k00',\n",
              " 'hayhayq2',\n",
              " 'kry1z9',\n",
              " 'pmcm110118008',\n",
              " 'ravens11',\n",
              " '9h7v4z91',\n",
              " 'trabajonet9',\n",
              " 'zoobike04',\n",
              " 'kyodai666',\n",
              " 'azerty32',\n",
              " 'd6VyrkFV6oblxNs5N8cW',\n",
              " 'tia150979',\n",
              " 'groster152',\n",
              " 'ebuchkakat1',\n",
              " 'rLLh4WDQ2OAWbDO5',\n",
              " 'satelite31',\n",
              " 'rrilni1747',\n",
              " 'nhiannei040',\n",
              " '147963asd',\n",
              " '7l1hu1xa',\n",
              " 'finisterra1',\n",
              " 'zcsntdmhe098',\n",
              " 'rntprns7',\n",
              " 'wasanun13',\n",
              " 'orysex325',\n",
              " 'tollak123',\n",
              " 'arigato3',\n",
              " '12rabialawwal',\n",
              " 'kevin24',\n",
              " 'cdann123',\n",
              " 'ym2130104',\n",
              " '4lgYVfzk1MwuzHcn',\n",
              " 'afan520307',\n",
              " 'moken7',\n",
              " 'cotezun996',\n",
              " 'may112001',\n",
              " 'shH3t7TcyOQwKRLt',\n",
              " 'Truelove19902610',\n",
              " 'z888888',\n",
              " 'ZZw5HCjQ4OAt0AmE',\n",
              " 'purpledog1992',\n",
              " 'yudhia30',\n",
              " 'clave08',\n",
              " 'kaiden12',\n",
              " 'ga98SIzk0NwhiZaE',\n",
              " 'taiga0088',\n",
              " 'koulapic33',\n",
              " 'eth36498',\n",
              " 'exusop649',\n",
              " 'ppnyadam09',\n",
              " 'nello11',\n",
              " 'X9WVojjE4MgVAIiR',\n",
              " 'cotezun996',\n",
              " 'fr8OClDY1MAdEhHa',\n",
              " 'zeeshanbhai1',\n",
              " 'mehmet4524572',\n",
              " 'bjolgvhs69',\n",
              " 'ebogel225',\n",
              " 'gjm666',\n",
              " 'v8porwar3',\n",
              " 'avanakit72',\n",
              " 'seng987321',\n",
              " 'b4NbTxDEyNgG141J',\n",
              " 'schalke04',\n",
              " 'tuto0378',\n",
              " 'cigicigi123',\n",
              " 'senghong2009',\n",
              " 'novelia21',\n",
              " 'rogyh820',\n",
              " 'PSVkampioen2013',\n",
              " 'Staterkom20081993',\n",
              " 'poluxyj32',\n",
              " 'ekufite742',\n",
              " 'before1go',\n",
              " 'www32223222',\n",
              " 'y75oak7b',\n",
              " 'd4xQ3LjUwMQFVCYQ',\n",
              " 'Jovan13lovekenthjusvan4ever',\n",
              " 'ga98SIzk0NwhiZaE',\n",
              " 'savas123x',\n",
              " 'hotdog20',\n",
              " 'mialr325',\n",
              " 'warriors08',\n",
              " 'paul2007',\n",
              " 'frhnsvelhfr1',\n",
              " '000webhostcom',\n",
              " 'ayles2266',\n",
              " '6yy6yy',\n",
              " 'afavin964',\n",
              " 'luthien123',\n",
              " 'ts02521712',\n",
              " 'afs34214',\n",
              " 'kry1z9',\n",
              " '210496av',\n",
              " 'fahad123',\n",
              " '68a2445667',\n",
              " 'seller1',\n",
              " 'c3h8bkzr',\n",
              " '20010509wang',\n",
              " 'hamqrc6',\n",
              " 'juliana00',\n",
              " '727nimdadre',\n",
              " 'xawipy995',\n",
              " 'lsdlsd1',\n",
              " 'xW8-3w7-MFB-CKH',\n",
              " 'princ3sa',\n",
              " 'fahad123',\n",
              " 'fbjurcd961',\n",
              " 'icap12',\n",
              " 'vuqADUSatAJO800',\n",
              " 'ivanxl33t010',\n",
              " '090mca090',\n",
              " 'ikanez886',\n",
              " 'ldteugao6',\n",
              " '1A2Z3E4R',\n",
              " 'F48DdVDU1MgGEakE',\n",
              " 'failz0r',\n",
              " ...]"
            ]
          },
          "metadata": {
            "tags": []
          },
          "execution_count": 42
        }
      ]
    },
    {
      "cell_type": "code",
      "metadata": {
        "id": "oMnnnDdMzBLR"
      },
      "source": [
        "def word_div_char(inputs):\n",
        "  character=[]\n",
        "  for i in inputs:\n",
        "    character.append(i)\n",
        "  return character"
      ],
      "execution_count": 43,
      "outputs": []
    },
    {
      "cell_type": "code",
      "metadata": {
        "colab": {
          "base_uri": "https://localhost:8080/"
        },
        "id": "pvUbokaAzZOy",
        "outputId": "da4e2913-2737-4d48-e3a1-4b1371b0aebf"
      },
      "source": [
        "word_div_char(\"kzde5577\")"
      ],
      "execution_count": 44,
      "outputs": [
        {
          "output_type": "execute_result",
          "data": {
            "text/plain": [
              "['k', 'z', 'd', 'e', '5', '5', '7', '7']"
            ]
          },
          "metadata": {
            "tags": []
          },
          "execution_count": 44
        }
      ]
    },
    {
      "cell_type": "code",
      "metadata": {
        "id": "erhxHx8fzgOy"
      },
      "source": [
        "from sklearn.feature_extraction.text import TfidfVectorizer"
      ],
      "execution_count": 45,
      "outputs": []
    },
    {
      "cell_type": "code",
      "metadata": {
        "id": "n1XPVD8J0HUb"
      },
      "source": [
        "vectorizer=TfidfVectorizer(tokenizer=word_div_char)"
      ],
      "execution_count": 46,
      "outputs": []
    },
    {
      "cell_type": "code",
      "metadata": {
        "id": "9JtfjCyB2Gww"
      },
      "source": [
        "X=vectorizer.fit_transform(x)"
      ],
      "execution_count": 47,
      "outputs": []
    },
    {
      "cell_type": "code",
      "metadata": {
        "id": "9soqp_Y42K90",
        "colab": {
          "base_uri": "https://localhost:8080/"
        },
        "outputId": "0728f754-c701-4d3e-dfa5-228517b119f9"
      },
      "source": [
        "X.shape"
      ],
      "execution_count": 48,
      "outputs": [
        {
          "output_type": "execute_result",
          "data": {
            "text/plain": [
              "(669639, 133)"
            ]
          },
          "metadata": {
            "tags": []
          },
          "execution_count": 48
        }
      ]
    },
    {
      "cell_type": "code",
      "metadata": {
        "colab": {
          "base_uri": "https://localhost:8080/"
        },
        "id": "VrJDxtG2pzN9",
        "outputId": "57f73911-c0f6-4ca4-f2ce-e6016f92fc02"
      },
      "source": [
        "vectorizer.get_feature_names()"
      ],
      "execution_count": 49,
      "outputs": [
        {
          "output_type": "execute_result",
          "data": {
            "text/plain": [
              "['\\x01',\n",
              " '\\x05',\n",
              " '\\x08',\n",
              " '\\x0f',\n",
              " '\\x10',\n",
              " '\\x11',\n",
              " '\\x12',\n",
              " '\\x13',\n",
              " '\\x16',\n",
              " '\\x17',\n",
              " '\\x19',\n",
              " '\\x1b',\n",
              " '\\x1c',\n",
              " '\\x1d',\n",
              " '\\x1e',\n",
              " ' ',\n",
              " '!',\n",
              " '\"',\n",
              " '#',\n",
              " '$',\n",
              " '%',\n",
              " '&',\n",
              " '(',\n",
              " ')',\n",
              " '*',\n",
              " '+',\n",
              " '-',\n",
              " '.',\n",
              " '/',\n",
              " '0',\n",
              " '1',\n",
              " '2',\n",
              " '3',\n",
              " '4',\n",
              " '5',\n",
              " '6',\n",
              " '7',\n",
              " '8',\n",
              " '9',\n",
              " ';',\n",
              " '<',\n",
              " '=',\n",
              " '>',\n",
              " '?',\n",
              " '@',\n",
              " '[',\n",
              " '\\\\',\n",
              " ']',\n",
              " '^',\n",
              " '_',\n",
              " '`',\n",
              " 'a',\n",
              " 'b',\n",
              " 'c',\n",
              " 'd',\n",
              " 'e',\n",
              " 'f',\n",
              " 'g',\n",
              " 'h',\n",
              " 'i',\n",
              " 'j',\n",
              " 'k',\n",
              " 'l',\n",
              " 'm',\n",
              " 'n',\n",
              " 'o',\n",
              " 'p',\n",
              " 'q',\n",
              " 'r',\n",
              " 's',\n",
              " 't',\n",
              " 'u',\n",
              " 'v',\n",
              " 'w',\n",
              " 'x',\n",
              " 'y',\n",
              " 'z',\n",
              " '{',\n",
              " '|',\n",
              " '}',\n",
              " '~',\n",
              " '\\x7f',\n",
              " '\\x81',\n",
              " '\\x8d',\n",
              " '\\xa0',\n",
              " '¡',\n",
              " '¦',\n",
              " '¨',\n",
              " '«',\n",
              " '¯',\n",
              " '°',\n",
              " '±',\n",
              " '²',\n",
              " '³',\n",
              " '´',\n",
              " 'µ',\n",
              " '·',\n",
              " 'º',\n",
              " '¼',\n",
              " '¾',\n",
              " '¿',\n",
              " '×',\n",
              " 'ß',\n",
              " 'à',\n",
              " 'á',\n",
              " 'â',\n",
              " 'ä',\n",
              " 'å',\n",
              " 'æ',\n",
              " 'ç',\n",
              " 'è',\n",
              " 'ê',\n",
              " 'í',\n",
              " 'ð',\n",
              " 'ñ',\n",
              " 'ò',\n",
              " 'ó',\n",
              " 'ô',\n",
              " 'õ',\n",
              " 'ö',\n",
              " '÷',\n",
              " 'ù',\n",
              " 'ú',\n",
              " 'û',\n",
              " 'ý',\n",
              " 'þ',\n",
              " 'ÿ',\n",
              " 'œ',\n",
              " '—',\n",
              " '‚',\n",
              " '‹',\n",
              " '›',\n",
              " '™']"
            ]
          },
          "metadata": {
            "tags": []
          },
          "execution_count": 49
        }
      ]
    },
    {
      "cell_type": "code",
      "metadata": {
        "colab": {
          "base_uri": "https://localhost:8080/"
        },
        "id": "Rm4y_qqvp4Q1",
        "outputId": "369d8eba-38de-4844-c22b-86c7a16c7e4b"
      },
      "source": [
        "first_document_vector=X[0]\n",
        "first_document_vector"
      ],
      "execution_count": 50,
      "outputs": [
        {
          "output_type": "execute_result",
          "data": {
            "text/plain": [
              "<1x133 sparse matrix of type '<class 'numpy.float64'>'\n",
              "\twith 6 stored elements in Compressed Sparse Row format>"
            ]
          },
          "metadata": {
            "tags": []
          },
          "execution_count": 50
        }
      ]
    },
    {
      "cell_type": "code",
      "metadata": {
        "colab": {
          "base_uri": "https://localhost:8080/"
        },
        "id": "kyshLzKhqLd8",
        "outputId": "939567f8-84df-4f41-f948-6000bfb39e8a"
      },
      "source": [
        "first_document_vector.T.todense()"
      ],
      "execution_count": 51,
      "outputs": [
        {
          "output_type": "execute_result",
          "data": {
            "text/plain": [
              "matrix([[0.        ],\n",
              "        [0.        ],\n",
              "        [0.        ],\n",
              "        [0.        ],\n",
              "        [0.        ],\n",
              "        [0.        ],\n",
              "        [0.        ],\n",
              "        [0.        ],\n",
              "        [0.        ],\n",
              "        [0.        ],\n",
              "        [0.        ],\n",
              "        [0.        ],\n",
              "        [0.        ],\n",
              "        [0.        ],\n",
              "        [0.        ],\n",
              "        [0.        ],\n",
              "        [0.        ],\n",
              "        [0.        ],\n",
              "        [0.        ],\n",
              "        [0.        ],\n",
              "        [0.        ],\n",
              "        [0.        ],\n",
              "        [0.        ],\n",
              "        [0.        ],\n",
              "        [0.        ],\n",
              "        [0.        ],\n",
              "        [0.        ],\n",
              "        [0.        ],\n",
              "        [0.        ],\n",
              "        [0.        ],\n",
              "        [0.        ],\n",
              "        [0.        ],\n",
              "        [0.        ],\n",
              "        [0.        ],\n",
              "        [0.56698653],\n",
              "        [0.        ],\n",
              "        [0.59130397],\n",
              "        [0.        ],\n",
              "        [0.        ],\n",
              "        [0.        ],\n",
              "        [0.        ],\n",
              "        [0.        ],\n",
              "        [0.        ],\n",
              "        [0.        ],\n",
              "        [0.        ],\n",
              "        [0.        ],\n",
              "        [0.        ],\n",
              "        [0.        ],\n",
              "        [0.        ],\n",
              "        [0.        ],\n",
              "        [0.        ],\n",
              "        [0.        ],\n",
              "        [0.        ],\n",
              "        [0.        ],\n",
              "        [0.28568749],\n",
              "        [0.22139908],\n",
              "        [0.        ],\n",
              "        [0.        ],\n",
              "        [0.        ],\n",
              "        [0.        ],\n",
              "        [0.        ],\n",
              "        [0.29187051],\n",
              "        [0.        ],\n",
              "        [0.        ],\n",
              "        [0.        ],\n",
              "        [0.        ],\n",
              "        [0.        ],\n",
              "        [0.        ],\n",
              "        [0.        ],\n",
              "        [0.        ],\n",
              "        [0.        ],\n",
              "        [0.        ],\n",
              "        [0.        ],\n",
              "        [0.        ],\n",
              "        [0.        ],\n",
              "        [0.        ],\n",
              "        [0.33624782],\n",
              "        [0.        ],\n",
              "        [0.        ],\n",
              "        [0.        ],\n",
              "        [0.        ],\n",
              "        [0.        ],\n",
              "        [0.        ],\n",
              "        [0.        ],\n",
              "        [0.        ],\n",
              "        [0.        ],\n",
              "        [0.        ],\n",
              "        [0.        ],\n",
              "        [0.        ],\n",
              "        [0.        ],\n",
              "        [0.        ],\n",
              "        [0.        ],\n",
              "        [0.        ],\n",
              "        [0.        ],\n",
              "        [0.        ],\n",
              "        [0.        ],\n",
              "        [0.        ],\n",
              "        [0.        ],\n",
              "        [0.        ],\n",
              "        [0.        ],\n",
              "        [0.        ],\n",
              "        [0.        ],\n",
              "        [0.        ],\n",
              "        [0.        ],\n",
              "        [0.        ],\n",
              "        [0.        ],\n",
              "        [0.        ],\n",
              "        [0.        ],\n",
              "        [0.        ],\n",
              "        [0.        ],\n",
              "        [0.        ],\n",
              "        [0.        ],\n",
              "        [0.        ],\n",
              "        [0.        ],\n",
              "        [0.        ],\n",
              "        [0.        ],\n",
              "        [0.        ],\n",
              "        [0.        ],\n",
              "        [0.        ],\n",
              "        [0.        ],\n",
              "        [0.        ],\n",
              "        [0.        ],\n",
              "        [0.        ],\n",
              "        [0.        ],\n",
              "        [0.        ],\n",
              "        [0.        ],\n",
              "        [0.        ],\n",
              "        [0.        ],\n",
              "        [0.        ],\n",
              "        [0.        ],\n",
              "        [0.        ],\n",
              "        [0.        ],\n",
              "        [0.        ]])"
            ]
          },
          "metadata": {
            "tags": []
          },
          "execution_count": 51
        }
      ]
    },
    {
      "cell_type": "code",
      "metadata": {
        "colab": {
          "base_uri": "https://localhost:8080/",
          "height": 419
        },
        "id": "34Ggrdc0qRY8",
        "outputId": "0bd85587-9358-4598-d27e-e26d21139e7a"
      },
      "source": [
        "df=pd.DataFrame(first_document_vector.T.todense(),index=vectorizer.get_feature_names(),columns=['TF-IDF'])\n",
        "df.sort_values(by=['TF-IDF'],ascending=False)"
      ],
      "execution_count": 52,
      "outputs": [
        {
          "output_type": "execute_result",
          "data": {
            "text/html": [
              "<div>\n",
              "<style scoped>\n",
              "    .dataframe tbody tr th:only-of-type {\n",
              "        vertical-align: middle;\n",
              "    }\n",
              "\n",
              "    .dataframe tbody tr th {\n",
              "        vertical-align: top;\n",
              "    }\n",
              "\n",
              "    .dataframe thead th {\n",
              "        text-align: right;\n",
              "    }\n",
              "</style>\n",
              "<table border=\"1\" class=\"dataframe\">\n",
              "  <thead>\n",
              "    <tr style=\"text-align: right;\">\n",
              "      <th></th>\n",
              "      <th>TF-IDF</th>\n",
              "    </tr>\n",
              "  </thead>\n",
              "  <tbody>\n",
              "    <tr>\n",
              "      <th>7</th>\n",
              "      <td>0.591304</td>\n",
              "    </tr>\n",
              "    <tr>\n",
              "      <th>5</th>\n",
              "      <td>0.566987</td>\n",
              "    </tr>\n",
              "    <tr>\n",
              "      <th>z</th>\n",
              "      <td>0.336248</td>\n",
              "    </tr>\n",
              "    <tr>\n",
              "      <th>k</th>\n",
              "      <td>0.291871</td>\n",
              "    </tr>\n",
              "    <tr>\n",
              "      <th>d</th>\n",
              "      <td>0.285687</td>\n",
              "    </tr>\n",
              "    <tr>\n",
              "      <th>...</th>\n",
              "      <td>...</td>\n",
              "    </tr>\n",
              "    <tr>\n",
              "      <th>;</th>\n",
              "      <td>0.000000</td>\n",
              "    </tr>\n",
              "    <tr>\n",
              "      <th>9</th>\n",
              "      <td>0.000000</td>\n",
              "    </tr>\n",
              "    <tr>\n",
              "      <th>8</th>\n",
              "      <td>0.000000</td>\n",
              "    </tr>\n",
              "    <tr>\n",
              "      <th>6</th>\n",
              "      <td>0.000000</td>\n",
              "    </tr>\n",
              "    <tr>\n",
              "      <th>™</th>\n",
              "      <td>0.000000</td>\n",
              "    </tr>\n",
              "  </tbody>\n",
              "</table>\n",
              "<p>133 rows × 1 columns</p>\n",
              "</div>"
            ],
            "text/plain": [
              "      TF-IDF\n",
              "7   0.591304\n",
              "5   0.566987\n",
              "z   0.336248\n",
              "k   0.291871\n",
              "d   0.285687\n",
              "..       ...\n",
              ";   0.000000\n",
              "9   0.000000\n",
              "8   0.000000\n",
              "6   0.000000\n",
              "™   0.000000\n",
              "\n",
              "[133 rows x 1 columns]"
            ]
          },
          "metadata": {
            "tags": []
          },
          "execution_count": 52
        }
      ]
    },
    {
      "cell_type": "code",
      "metadata": {
        "id": "deMF4CIltwhI"
      },
      "source": [
        "from sklearn.model_selection import train_test_split"
      ],
      "execution_count": 53,
      "outputs": []
    },
    {
      "cell_type": "code",
      "metadata": {
        "id": "NheXXZ6AeTjz"
      },
      "source": [
        "X_train,X_test,y_train,y_test=train_test_split(X,y,test_size=0.2)"
      ],
      "execution_count": 54,
      "outputs": []
    },
    {
      "cell_type": "code",
      "metadata": {
        "colab": {
          "base_uri": "https://localhost:8080/"
        },
        "id": "-7t5zEjlelDb",
        "outputId": "cfc1348d-6ef5-41a5-d96c-a825fb453275"
      },
      "source": [
        "X_train.shape"
      ],
      "execution_count": 55,
      "outputs": [
        {
          "output_type": "execute_result",
          "data": {
            "text/plain": [
              "(535711, 133)"
            ]
          },
          "metadata": {
            "tags": []
          },
          "execution_count": 55
        }
      ]
    },
    {
      "cell_type": "markdown",
      "metadata": {
        "id": "xQxghlVhhthO"
      },
      "source": [
        "## Applying Logestic regression"
      ]
    },
    {
      "cell_type": "code",
      "metadata": {
        "id": "HV3OLndLenoh"
      },
      "source": [
        "from sklearn.linear_model import LogisticRegression"
      ],
      "execution_count": 56,
      "outputs": []
    },
    {
      "cell_type": "code",
      "metadata": {
        "id": "LZf5P5bSfAF1"
      },
      "source": [
        "clf=LogisticRegression(random_state=0,multi_class='multinomial')"
      ],
      "execution_count": 57,
      "outputs": []
    },
    {
      "cell_type": "code",
      "metadata": {
        "colab": {
          "base_uri": "https://localhost:8080/"
        },
        "id": "SNBb-O5viOx2",
        "outputId": "73a55264-48d6-438a-cec4-386f4231cef2"
      },
      "source": [
        "clf.fit(X_train,y_train)"
      ],
      "execution_count": 58,
      "outputs": [
        {
          "output_type": "execute_result",
          "data": {
            "text/plain": [
              "LogisticRegression(C=1.0, class_weight=None, dual=False, fit_intercept=True,\n",
              "                   intercept_scaling=1, l1_ratio=None, max_iter=100,\n",
              "                   multi_class='multinomial', n_jobs=None, penalty='l2',\n",
              "                   random_state=0, solver='lbfgs', tol=0.0001, verbose=0,\n",
              "                   warm_start=False)"
            ]
          },
          "metadata": {
            "tags": []
          },
          "execution_count": 58
        }
      ]
    },
    {
      "cell_type": "code",
      "metadata": {
        "colab": {
          "base_uri": "https://localhost:8080/"
        },
        "id": "S_PDm_4siT3H",
        "outputId": "c493e483-c04f-45a4-9524-7d943f677e17"
      },
      "source": [
        "dt=np.array(['%@123abcd'])\n",
        "pred=vectorizer.transform(dt)\n",
        "clf.predict(pred)"
      ],
      "execution_count": 59,
      "outputs": [
        {
          "output_type": "execute_result",
          "data": {
            "text/plain": [
              "array([1])"
            ]
          },
          "metadata": {
            "tags": []
          },
          "execution_count": 59
        }
      ]
    },
    {
      "cell_type": "code",
      "metadata": {
        "id": "nBLdEGy7iwjH"
      },
      "source": [
        ""
      ],
      "execution_count": null,
      "outputs": []
    },
    {
      "cell_type": "markdown",
      "metadata": {
        "id": "uNCs9X2oi7Zg"
      },
      "source": [
        "Doing prediction on X-test data\n"
      ]
    },
    {
      "cell_type": "code",
      "metadata": {
        "colab": {
          "base_uri": "https://localhost:8080/"
        },
        "id": "oLCex4vhi_O2",
        "outputId": "6c0b20d0-0544-4bb1-803b-51f806185c07"
      },
      "source": [
        "y_pred=clf.predict(X_test)\n",
        "y_pred"
      ],
      "execution_count": 61,
      "outputs": [
        {
          "output_type": "execute_result",
          "data": {
            "text/plain": [
              "array([1, 1, 1, ..., 1, 1, 1])"
            ]
          },
          "metadata": {
            "tags": []
          },
          "execution_count": 61
        }
      ]
    },
    {
      "cell_type": "code",
      "metadata": {
        "id": "4X_XtMNGjGXh"
      },
      "source": [
        ""
      ],
      "execution_count": null,
      "outputs": []
    },
    {
      "cell_type": "markdown",
      "metadata": {
        "id": "zoDyMqFypTGE"
      },
      "source": [
        "##Accuracy of model using confusion matrix ,accuracy score"
      ]
    },
    {
      "cell_type": "code",
      "metadata": {
        "id": "wCxfRz6Hpdsj"
      },
      "source": [
        "from sklearn.metrics import confusion_matrix,accuracy_score"
      ],
      "execution_count": 62,
      "outputs": []
    },
    {
      "cell_type": "code",
      "metadata": {
        "colab": {
          "base_uri": "https://localhost:8080/"
        },
        "id": "sKqxgzRVpn1k",
        "outputId": "5b1f4b5c-79cf-4329-a53c-9190d592b4cb"
      },
      "source": [
        "cm=confusion_matrix(y_test,y_pred)\n",
        "cm"
      ],
      "execution_count": 65,
      "outputs": [
        {
          "output_type": "execute_result",
          "data": {
            "text/plain": [
              "array([[ 5580, 12359,    14],\n",
              "       [ 4053, 92700,  2607],\n",
              "       [   43,  5089, 11483]])"
            ]
          },
          "metadata": {
            "tags": []
          },
          "execution_count": 65
        }
      ]
    },
    {
      "cell_type": "code",
      "metadata": {
        "colab": {
          "base_uri": "https://localhost:8080/"
        },
        "id": "CZlM-Tuhpvrh",
        "outputId": "d3eb6601-cb01-4b3c-82a8-2f7fda589e4d"
      },
      "source": [
        "acs=accuracy_score(y_test,y_pred)\n",
        "acs"
      ],
      "execution_count": 64,
      "outputs": [
        {
          "output_type": "execute_result",
          "data": {
            "text/plain": [
              "0.8195672301535153"
            ]
          },
          "metadata": {
            "tags": []
          },
          "execution_count": 64
        }
      ]
    },
    {
      "cell_type": "markdown",
      "metadata": {
        "id": "VoSwzR2oqH7L"
      },
      "source": [
        "##report of your model"
      ]
    },
    {
      "cell_type": "code",
      "metadata": {
        "colab": {
          "base_uri": "https://localhost:8080/"
        },
        "id": "KhVWxZZ5p_Rg",
        "outputId": "ce7f869c-fffa-4eb8-8e78-ace218dd5322"
      },
      "source": [
        "from sklearn.metrics import classification_report\n",
        "print(classification_report(y_test,y_pred))"
      ],
      "execution_count": 66,
      "outputs": [
        {
          "output_type": "stream",
          "text": [
            "              precision    recall  f1-score   support\n",
            "\n",
            "           0       0.58      0.31      0.40     17953\n",
            "           1       0.84      0.93      0.88     99360\n",
            "           2       0.81      0.69      0.75     16615\n",
            "\n",
            "    accuracy                           0.82    133928\n",
            "   macro avg       0.74      0.64      0.68    133928\n",
            "weighted avg       0.80      0.82      0.80    133928\n",
            "\n"
          ],
          "name": "stdout"
        }
      ]
    },
    {
      "cell_type": "code",
      "metadata": {
        "id": "fw4vOOzHqX95"
      },
      "source": [
        ""
      ],
      "execution_count": null,
      "outputs": []
    }
  ]
}